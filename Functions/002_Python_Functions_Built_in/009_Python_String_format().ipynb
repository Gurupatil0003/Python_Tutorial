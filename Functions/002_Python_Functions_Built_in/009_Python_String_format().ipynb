{
 "cells": [
  {
   "cell_type": "markdown",
   "metadata": {},
   "source": [
    "<small><small><i>\n",
    "All the IPython Notebooks in this lecture series by Mr.Guranna Gouda are available @ **[GitHub](https://github.com/Gurupatil0003/Python_Tutorial/tree/main/Functions/002_Python_Functions_Built_in)**\n",
    "</i></small></small>"
   ]
  },
  {
   "cell_type": "markdown",
   "metadata": {},
   "source": [
    "# Python String `format()`\n",
    "\n",
    "The string **`format()`** method formats the given string into a nicer output in Python.\n",
    "\n",
    "**Syntax**:\n",
    "\n",
    "```python\n",
    "template.format(p0, p1, ..., k0=v0, k1=v1, ...)\n",
    "```\n",
    "\n",
    "Here, **`p0, p1,...`** are positional arguments and, **`k0, k1,...`** are keyword arguments with values **`v0, v1,...`** respectively.\n",
    "\n",
    "And, **`template`** is a mixture of format codes with placeholders for the arguments"
   ]
  },
  {
   "cell_type": "markdown",
   "metadata": {},
   "source": [
    "## `format()` Parameters\n",
    "\n",
    "The **`format()`** method takes any number of parameters. But, is divided into two types of parameters:\n",
    "\n",
    "* **Positional parameters** - list of parameters that can be accessed with index of parameter inside curly braces **`{index}`**\n",
    "* **Keyword parameters** - list of parameters of type key=value, that can be accessed with key of parameter inside curly braces **`{key}`**"
   ]
  },
  {
   "cell_type": "markdown",
   "metadata": {},
   "source": [
    "## Return Value from `format()`\n",
    "\n",
    "The **`format()`** method returns the formatted string."
   ]
  },
  {
   "cell_type": "markdown",
   "metadata": {},
   "source": [
    "## How String `format()` works?\n",
    "\n",
    "The **`format()`** reads the type of arguments passed to it and formats it according to the format codes defined in the string."
   ]
  },
  {
   "cell_type": "markdown",
   "metadata": {},
   "source": [
    "### For positional arguments\n",
    "\n",
    "<div>\n",
    "<img src=\"https://github.com/Gurupatil0003/Python_Tutorial/blob/main/img/format1.png\" width=\"600\"/>\n",
    "</div>"
   ]
  },
  {
   "cell_type": "markdown",
   "metadata": {},
   "source": [
    "Here, Argument **0** is a string **\"Adam\"** and Argument **1** is a floating number **230.2346**.\n",
    "\n",
    ">**Note:** Argument list starts from **0** in Python.\n",
    "\n",
    "The string **`\"Hello {0}, your balance is {1:9.3f}\"`** is the template string. This contains the format codes for formatting.\n",
    "\n",
    "The curly braces are just placeholders for the arguments to be placed. In the above example, **`{0}`** is placeholder for **`\"Adam\"`** and **`{1:9.3f}`** is placeholder for **`230.2346`**.\n",
    "\n",
    "Since the template string references **`format()`** arguments as **`{0}`** and **`{1}`**, the arguments are positional arguments. They both can also be referenced without the numbers as **`{}`** and Python internally converts them to numbers.\n",
    "\n",
    "Internally,\n",
    "\n",
    "* Since **`\"Adam\"`** is the 0th argument, it is placed in place of **`{0}`**. Since, **`{0}`** doesn't contain any other format codes, it doesn't perform any other operations.\n",
    "\n",
    "\n",
    "* However, it is not the case for 1st argument **`230.2346`**. Here, **`{1:9.3f}`** places **`230.2346`** in its place and performs the operation **9.3f**.\n",
    "\n",
    "\n",
    "* **f** specifies the format is dealing with a float number. If not correctly specified, it will give out an error.\n",
    "\n",
    "\n",
    "* The part before the **\".\" (9)** specifies the minimum width/padding the number **(230.2346)** can take. In this case, **230.2346** is allotted a minimum of **9** places including the **\".\"**.\n",
    "\n",
    "\n",
    "* If no alignment option is specified, it is aligned to the right of the remaining spaces. (For strings, it is aligned to the left.)\n",
    "\n",
    "\n",
    "* The part after the **\".\" (3)** truncates the decimal part **(2346)** upto the given number. In this case, **2346** is truncated after 3 places.\n",
    "\n",
    "\n",
    "* Remaining numbers **(46)** is rounded off outputting **235**."
   ]
  },
  {
   "cell_type": "markdown",
   "metadata": {},
   "source": [
    "### For keyword arguments\n",
    "\n",
    "<div>\n",
    "<img src=\"https://github.com/Gurupatil0003/Python_Tutorial/blob/main/img/format2.png\" width=\"600\"/>\n",
    "</div>"
   ]
  },
  {
   "cell_type": "markdown",
   "metadata": {},
   "source": [
    "We've used the same example from above to show the difference between keyword and positional arguments.\n",
    "\n",
    "Here, instead of just the parameters, we've used a key-value for the parameters. Namely, **`name=\"Adam\"`** and **`blc=230.2346`**.\n",
    "\n",
    "Since these parameters are referenced by their keys as **`{name}`** and **`{blc:9.3f}`**, they are known as keyword or named arguments.\n",
    "\n",
    "Internally,\n",
    "\n",
    "* The placeholder **`{name}`** is replaced by the value of name - \"Adam\". Since it doesn't contain any other format codes, \"Adam\" is placed.\n",
    "\n",
    "\n",
    "* For the argument **blc=230.2346**, the placeholder **`{blc:9.3f}`** is replaced by the value 230.2346. But before replacing it, like previous example, it performs 9.3f operation on it. \n",
    "\n",
    "\n",
    "This outputs **230.235**. The decimal part is truncated after **3** places and remaining digits are rounded off. Likewise, the total width is assigned 9 leaving two spaces to the left."
   ]
  },
  {
   "cell_type": "markdown",
   "metadata": {},
   "source": [
    "## Basic formatting with `format()`\n",
    "\n",
    "The **`format()`** method allows the use of simple placeholders for formatting."
   ]
  },
  {
   "cell_type": "code",
   "execution_count": 1,
   "metadata": {
    "ExecuteTime": {
     "end_time": "2021-06-23T08:11:49.231330Z",
     "start_time": "2021-06-23T08:11:49.222542Z"
    },
    "scrolled": true
   },
   "outputs": [
    {
     "name": "stdout",
     "output_type": "stream",
     "text": [
      "Hello Adam, your balance is 230.2346.\n",
      "Hello Adam, your balance is 230.2346.\n",
      "Hello Adam, your balance is 230.2346.\n",
      "Hello Adam, your balance is 230.2346.\n"
     ]
    }
   ],
   "source": [
    "# Example 1: Basic formatting for default, positional and keyword arguments\n",
    "\n",
    "# default arguments\n",
    "print(\"Hello {}, your balance is {}.\".format(\"Adam\", 230.2346))\n",
    "\n",
    "# positional arguments\n",
    "print(\"Hello {0}, your balance is {1}.\".format(\"Adam\", 230.2346))\n",
    "\n",
    "# keyword arguments\n",
    "print(\"Hello {name}, your balance is {blc}.\".format(name=\"Adam\", blc=230.2346))\n",
    "\n",
    "# mixed arguments\n",
    "print(\"Hello {0}, your balance is {blc}.\".format(\"Adam\", blc=230.2346))"
   ]
  },
  {
   "cell_type": "markdown",
   "metadata": {},
   "source": [
    ">**Note:** In case of mixed arguments, keyword arguments has to always follow positional arguments."
   ]
  },
  {
   "cell_type": "markdown",
   "metadata": {},
   "source": [
    "## Numbers formatting with `format()`\n",
    "\n",
    "You can format numbers using the format specifier given below:\n",
    "\n",
    "| Type | Meaning |\n",
    "|:----| :--- |\n",
    "| **`d`** | **Decimal integer** | \n",
    "| **`c`** | **Corresponding Unicode character** | \n",
    "| **`b`** | **Binary format** | \n",
    "| **`o`** | **Octal format** | \n",
    "| **`x`** | **Hexadecimal format (lower case)** | \n",
    "| **`X`** | **Hexadecimal format (upper case)** | \n",
    "| **`n`** | **Same as 'd'. Except it uses current locale setting for number separator** | \n",
    "| **`e`** | **Exponential notation. (lowercase e)** | \n",
    "| **`E`** | **Exponential notation (uppercase E)** | \n",
    "| **`f`** | **Displays fixed point number (Default: 6)** | \n",
    "| **`F`** | **Same as 'f'. Except displays 'inf' as 'INF' and 'nan' as 'NAN'** | \n",
    "| **`g`** | **General format. Rounds number to p significant digits. (Default precision: 6)** | \n",
    "| **`G`** | **Same as 'g'. Except switches to 'E' if the number is large.** | \n",
    "| **`%`** | **Percentage. Multiples by 100 and puts % at the end.** | "
   ]
  },
{
   "cell_type": "code",
   "execution_count": null,
   "metadata": {},
   "outputs": [],
   "source": [
    "# Base conversion using format()\n",
    "n = int(input(\"Enter a number: \"))\n",
    "base = input(\"Enter the base to convert to (binary, octal, hex): \").lower()\n",
    "\n",
    "if base == 'binary':\n",
    "    print(f\"The number is:{n}\\nbin: {format(n, 'b')}\")\n",
    "elif base == 'octal':\n",
    "    print(f\"The number is:{n}\\noct: {format(n, 'o')}\")\n",
    "elif base == 'hex':\n",
    "    print(f\"The number is:{n}\\nhex: {format(n, 'X')}\")\n",
    "else:\n",
    "    print(\"Invalid base. Please enter 'binary', 'octal', or 'hex'.\")"
   ]
},
{
   "cell_type": "code",
   "execution_count": null,
   "metadata": {
    "ExecuteTime": {
     "end_time": "2024-06-23T08:13:03.145921Z",
     "start_time": "2024-06-23T08:13:03.138108Z"
    }
   },
   "outputs": [
    {
     "name": "stdout",
     "output_type": "stream",
     "text": [
      "The number is:123\n",
      "bin: 1111011\n"
     ]
    }
   ]
}

  {
   "cell_type": "code",
   "execution_count": null,
   "metadata": {},
   "outputs": [],
   "source": [
    "# Base conversion using format()\n",
    "n = 10\n",
    "print(format(n, 'b'))  # Binary: '1010'\n",
    "print(format(n, 'o'))  # Octal: '12'\n",
    "print(format(n, 'd'))  # Decimal: '10'\n",
    "print(format(n, 'X'))  # Hexadecimal: 'A'\n"
   ]
  },
  {
   "cell_type": "code",
   "execution_count": 2,
   "metadata": {
    "ExecuteTime": {
     "end_time": "2021-06-23T08:13:03.145921Z",
     "start_time": "2021-06-23T08:13:03.138108Z"
    }
   },
   "outputs": [
    {
     "name": "stdout",
     "output_type": "stream",
     "text": [
      "The number is:123\n",
      "The float number is:123.456790\n",
      "bin: 1100, oct: 14, hex: c\n"
     ]
    }
   ],
   "source": [
    "# Example 2: Simple number formatting\n",
    "\n",
    "# integer arguments\n",
    "print(\"The number is:{:d}\".format(123))\n",
    "\n",
    "# float arguments\n",
    "print(\"The float number is:{:f}\".format(123.4567898))\n",
    "\n",
    "# octal, binary and hexadecimal format\n",
    "print(\"bin: {0:b}, oct: {0:o}, hex: {0:x}\".format(12))"
   ]
  },
  {
   "cell_type": "code",
   "execution_count": 3,
   "metadata": {
    "ExecuteTime": {
     "end_time": "2021-06-10T18:06:37.497177Z",
     "start_time": "2021-06-10T18:06:37.482572Z"
    }
   },
   "outputs": [
    {
     "name": "stdout",
     "output_type": "stream",
     "text": [
      "   12\n",
      "1234\n",
      "  12.235\n",
      "00012\n",
      "0012.235\n"
     ]
    }
   ],
   "source": [
    "# Example 3: Number formatting with padding for int and floats\n",
    "    \n",
    "# integer numbers with minimum width\n",
    "print(\"{:5d}\".format(12))\n",
    "\n",
    "# width doesn't work for numbers longer than padding\n",
    "print(\"{:2d}\".format(1234))\n",
    "\n",
    "# padding for float numbers\n",
    "print(\"{:8.3f}\".format(12.2346))\n",
    "\n",
    "# integer numbers with minimum width filled with zeros\n",
    "print(\"{:05d}\".format(12))\n",
    "\n",
    "# padding for float numbers filled with zeros\n",
    "print(\"{:08.3f}\".format(12.2346))"
   ]
  },
  {
   "cell_type": "markdown",
   "metadata": {},
   "source": [
    "**Explanation:** Here,\n",
    "\n",
    "* in the first statement, **`{:5d}`** takes an integer argument and assigns a minimum width of 5. Since, no alignment is specified, it is aligned to the right.\n",
    "\n",
    "* In the second statement, you can see the width (2) is less than the number (1234), so it doesn't take any space to the left but also doesn't truncate the number.\n",
    "\n",
    "* Unlike integers, floats has both integer and decimal parts. And, the mininum width defined to the number is for both parts as a whole including **\".\"**.\n",
    "\n",
    "* In the third statement, **`{:8.3f}`** truncates the decimal part into 3 places rounding off the last 2 digits. And, the number, now 12.235, takes a width of 8 as a whole leaving 2 places to the left.\n",
    "\n",
    "* If you want to fill the remaining places with zero, placing a zero before the format specifier does this. It works both for integers and floats: **`{:05d}`** and **`{:08.3f}`**."
   ]
  },
  {
   "cell_type": "code",
   "execution_count": 4,
   "metadata": {
    "ExecuteTime": {
     "end_time": "2021-06-10T18:06:37.887677Z",
     "start_time": "2021-06-10T18:06:37.875993Z"
    }
   },
   "outputs": [
    {
     "name": "stdout",
     "output_type": "stream",
     "text": [
      "+12.230000 -12.230000\n",
      "12.230000 -12.230000\n",
      " 12.230000 -12.230000\n"
     ]
    }
   ],
   "source": [
    "# Example 4: Number formatting for signed numbers\n",
    "\n",
    "# show the + sign\n",
    "print(\"{:+f} {:+f}\".format(12.23, -12.23))\n",
    "\n",
    "# show the - sign only\n",
    "print(\"{:-f} {:-f}\".format(12.23, -12.23))\n",
    "\n",
    "# show space for + sign\n",
    "print(\"{: f} {: f}\".format(12.23, -12.23))"
   ]
  },
  {
   "cell_type": "markdown",
   "metadata": {},
   "source": [
    "## Number formatting with alignment\n",
    "\n",
    "The operators **`<`**, **`^`**, **`>`** and **`=`** are used for alignment when assigned a certain width to the numbers.\n",
    "\n",
    "| Type | Meaning |\n",
    "|:----| :--- |\n",
    "| **`<`** | **Left aligned to the remaining space** | \n",
    "| **`^`** | **Center aligned to the remaining space** | \n",
    "| **`>`** | **Right aligned to the remaining space** | \n",
    "| **`=`** | **Forces the signed (+) (-) to the leftmost position** | "
   ]
  },
  {
   "cell_type": "code",
   "execution_count": 5,
   "metadata": {
    "ExecuteTime": {
     "end_time": "2021-06-10T18:06:39.387371Z",
     "start_time": "2021-06-10T18:06:39.367890Z"
    }
   },
   "outputs": [
    {
     "name": "stdout",
     "output_type": "stream",
     "text": [
      "   12\n",
      "  12.235  \n",
      "12000\n",
      "- 12.235\n"
     ]
    }
   ],
   "source": [
    "# Example 5: Number formatting with left, right and center alignment\n",
    "\n",
    "# integer numbers with right alignment\n",
    "print(\"{:5d}\".format(12))\n",
    "\n",
    "# float numbers with center alignment\n",
    "print(\"{:^10.3f}\".format(12.2346))\n",
    "\n",
    "# integer left alignment filled with zeros\n",
    "print(\"{:<05d}\".format(12))\n",
    "\n",
    "# float numbers with center alignment\n",
    "print(\"{:=8.3f}\".format(-12.2346))"
   ]
  },
  {
   "cell_type": "markdown",
   "metadata": {},
   "source": [
    ">**Note:** Left alignment filled with zeros for integer numbers can cause problems as the 3rd example which returns 12000, rather than 12."
   ]
  },
  {
   "cell_type": "markdown",
   "metadata": {},
   "source": [
    "## String formatting with `format()`\n",
    "\n",
    "As numbers, string can be formatted in a similar way with **`format()`**."
   ]
  },
  {
   "cell_type": "code",
   "execution_count": 6,
   "metadata": {
    "ExecuteTime": {
     "end_time": "2021-06-10T18:06:42.965197Z",
     "start_time": "2021-06-10T18:06:42.949616Z"
    }
   },
   "outputs": [
    {
     "name": "stdout",
     "output_type": "stream",
     "text": [
      "cat  \n",
      "  cat\n",
      " cat \n",
      "*cat*\n"
     ]
    }
   ],
   "source": [
    "# Example 6: String formatting with padding and alignment\n",
    "\n",
    "# string padding with left alignment\n",
    "print(\"{:5}\".format(\"cat\"))\n",
    "\n",
    "# string padding with right alignment\n",
    "print(\"{:>5}\".format(\"cat\"))\n",
    "\n",
    "# string padding with center alignment\n",
    "print(\"{:^5}\".format(\"cat\"))\n",
    "\n",
    "# string padding with center alignment\n",
    "# and '*' padding character\n",
    "print(\"{:*^5}\".format(\"cat\"))"
   ]
  },
  {
   "cell_type": "code",
   "execution_count": 7,
   "metadata": {
    "ExecuteTime": {
     "end_time": "2021-06-10T18:06:43.777853Z",
     "start_time": "2021-06-10T18:06:43.755456Z"
    }
   },
   "outputs": [
    {
     "name": "stdout",
     "output_type": "stream",
     "text": [
      "cat\n",
      "cat  \n",
      " cat \n"
     ]
    }
   ],
   "source": [
    "# Example 7: Truncating strings with format()\n",
    "\n",
    "# truncating strings to 3 letters\n",
    "print(\"{:.3}\".format(\"caterpillar\"))\n",
    "\n",
    "# truncating strings to 3 letters\n",
    "# and padding\n",
    "print(\"{:5.3}\".format(\"caterpillar\"))\n",
    "\n",
    "# truncating strings to 3 letters,\n",
    "# padding and center alignment\n",
    "print(\"{:^5.3}\".format(\"caterpillar\"))"
   ]
  },
  {
   "cell_type": "markdown",
   "metadata": {},
   "source": [
    "## Formatting class and dictionary members using `format()`\n",
    "\n",
    "Python internally uses **`getattr()`** for class members in the form \".age\". And, it uses **`__getitem__()`** lookup for dictionary members in the form \"[index]\"."
   ]
  },
  {
   "cell_type": "code",
   "execution_count": 8,
   "metadata": {
    "ExecuteTime": {
     "end_time": "2021-06-10T18:06:45.776627Z",
     "start_time": "2021-06-10T18:06:45.766890Z"
    }
   },
   "outputs": [
    {
     "name": "stdout",
     "output_type": "stream",
     "text": [
      "Adam's age is: 23\n"
     ]
    }
   ],
   "source": [
    "# Example 8: Formatting class members using format()\n",
    "\n",
    "# define Person class\n",
    "class Person:\n",
    "    age = 23\n",
    "    name = \"Adam\"\n",
    "\n",
    "# format age\n",
    "print(\"{p.name}'s age is: {p.age}\".format(p=Person()))"
   ]
  },
  {
   "cell_type": "markdown",
   "metadata": {},
   "source": [
    "**Explanation:** Here, Person **`object`** is passed as a keyword argument **`p`**.\n",
    "\n",
    "Inside the template string, Person's **`name`** and **`age`** are accessed using **`.name`** and **`.age`** respectively."
   ]
  },
  {
   "cell_type": "code",
   "execution_count": 9,
   "metadata": {
    "ExecuteTime": {
     "end_time": "2021-06-10T18:06:46.964209Z",
     "start_time": "2021-06-10T18:06:46.954470Z"
    },
    "scrolled": true
   },
   "outputs": [
    {
     "name": "stdout",
     "output_type": "stream",
     "text": [
      "Adam's age is: 23\n"
     ]
    }
   ],
   "source": [
    "# Example 9: Formatting dictionary members using format()\n",
    "\n",
    "# define Person dictionary\n",
    "person = {'age': 23, 'name': 'Adam'}\n",
    "\n",
    "# format age\n",
    "print(\"{p[name]}'s age is: {p[age]}\".format(p=person))"
   ]
  },
  {
   "cell_type": "markdown",
   "metadata": {},
   "source": [
    "**Explanation:** Similar to class, **`person`** dictionary is passed as a keyword argument **`p`**.\n",
    "\n",
    "Inside the template string, person's **`name`** and **`age`** are accessed using **`[name]`** and **`[age]`** respectively."
   ]
  },
  {
   "cell_type": "markdown",
   "metadata": {},
   "source": [
    "There's an easier way to format dictionaries in Python using __`str.format(**mapping)`__."
   ]
  },
  {
   "cell_type": "code",
   "execution_count": 10,
   "metadata": {
    "ExecuteTime": {
     "end_time": "2021-06-10T18:06:49.901261Z",
     "start_time": "2021-06-10T18:06:49.890546Z"
    }
   },
   "outputs": [
    {
     "name": "stdout",
     "output_type": "stream",
     "text": [
      "Adam's age is: 23\n"
     ]
    }
   ],
   "source": [
    "# define Person dictionary\n",
    "\n",
    "person = {'age': 23, 'name': 'Adam'}\n",
    "\n",
    "# format age\n",
    "print(\"{name}'s age is: {age}\".format(**person))"
   ]
  },
  {
   "cell_type": "markdown",
   "metadata": {},
   "source": [
    "__`**`__ is a format parameter (minimum field width)."
   ]
  },
  {
   "cell_type": "markdown",
   "metadata": {},
   "source": [
    "## Arguments as format codes using `format()`\n",
    "\n",
    "You can also pass format codes like precision, alignment, fill character as positional or keyword arguments dynamically."
   ]
  },
  {
   "cell_type": "code",
   "execution_count": 11,
   "metadata": {
    "ExecuteTime": {
     "end_time": "2021-06-10T18:06:53.368073Z",
     "start_time": "2021-06-10T18:06:53.346651Z"
    }
   },
   "outputs": [
    {
     "name": "stdout",
     "output_type": "stream",
     "text": [
      "*cat*\n",
      "123.24  \n"
     ]
    }
   ],
   "source": [
    "# Example 10: Dynamic formatting using format()\n",
    "\n",
    "# dynamic string format template\n",
    "string = \"{:{fill}{align}{width}}\"\n",
    "\n",
    "# passing format codes as arguments\n",
    "print(string.format('cat', fill='*', align='^', width=5))\n",
    "\n",
    "# dynamic float format template\n",
    "num = \"{:{align}{width}.{precision}f}\"\n",
    "\n",
    "# passing format codes as arguments\n",
    "print(num.format(123.236, align='<', width=8, precision=2))"
   ]
  },
  {
   "cell_type": "markdown",
   "metadata": {},
   "source": [
    "**Explanation:** Here,\n",
    "\n",
    "* In the first example, 'cat' is the positional argument is to be formatted. Likewise, **`fill='*'`**, **`align='^'`** and **`width=5`** are keyword arguments.\n",
    "\n",
    "* In the template string, these keyword arguments are not retrieved as normal strings to be printed but as the actual format codes **`fill`**, **`align`** and **`width`**. The arguments replaces the corresponding named placeholders and the string **'cat'** is formatted accordingly.\n",
    "\n",
    "* Likewise, in the second example, **123.236** is the positional argument and, align, width and precision are passed to the template string as format codes."
   ]
  },
  {
   "cell_type": "markdown",
   "metadata": {},
   "source": [
    "## Extra formatting options with `format()`\n",
    "\n",
    "**`format()`** also supports type-specific formatting options like datetime's and complex number formatting.\n",
    "\n",
    "**`format()`** internally calls **`__format__()`** for datetime, while **`format()`** accesses the attributes of the complex number.\n",
    "\n",
    "You can easily override the **`__format__()`** method of any object for custom formatting."
   ]
  },
  {
   "cell_type": "code",
   "execution_count": 12,
   "metadata": {
    "ExecuteTime": {
     "end_time": "2021-06-10T18:06:57.179134Z",
     "start_time": "2021-06-10T18:06:57.157711Z"
    }
   },
   "outputs": [
    {
     "name": "stdout",
     "output_type": "stream",
     "text": [
      "It's now: 2021/06/10 23:36:57\n",
      "Real part: 1.0 and Imaginary part: 2.0\n",
      "Adam's age is: 23\n"
     ]
    }
   ],
   "source": [
    "# Example 11: Type-specific formatting with format() and overriding __format__() method\n",
    "\n",
    "import datetime\n",
    "# datetime formatting\n",
    "date = datetime.datetime.now()\n",
    "print(\"It's now: {:%Y/%m/%d %H:%M:%S}\".format(date))\n",
    "\n",
    "# complex number formatting\n",
    "complexNumber = 1+2j\n",
    "print(\"Real part: {0.real} and Imaginary part: {0.imag}\".format(complexNumber))\n",
    "\n",
    "# custom __format__() method\n",
    "class Person:\n",
    "    def __format__(self, format):\n",
    "        if(format == 'age'):\n",
    "            return '23'\n",
    "        return 'None'\n",
    "\n",
    "print(\"Adam's age is: {:age}\".format(Person()))"
   ]
  },
  {
   "cell_type": "markdown",
   "metadata": {},
   "source": [
    "**Explanation:** Here,\n",
    "\n",
    "* **For datetime:**\n",
    "    - Current datetime is passed as a positional argument to the **`format()`** method.\n",
    "    - And, internally using **`__format__()`** method, **`format()`** accesses the year, month, day, hour, minutes and seconds.\n",
    "\n",
    "* **For complex numbers:**\n",
    "    - 1+2j is internally converted to a ComplexNumber object.\n",
    "    - Then accessing its attributes **`real`** and **`imag`**, the number is formatted.\n",
    "\n",
    "* **Overriding __format__():**\n",
    "    - Like datetime, you can override your own **`__format__()`** method for custom formatting which returns age when accessed as **`{:age}`**  "
   ]
  },
  {
   "cell_type": "markdown",
   "metadata": {},
   "source": [
    "You can also use object's **`__str__()`** and **`__repr__()`** functionality with shorthand notations using **`format()`**.\n",
    "\n",
    "Like **`__format__()`**, you can easily override object's **`__str__()`** and **`__repr_()`** methods."
   ]
  },
  {
   "cell_type": "code",
   "execution_count": 13,
   "metadata": {
    "ExecuteTime": {
     "end_time": "2021-06-10T18:07:03.333219Z",
     "start_time": "2021-06-10T18:07:03.317636Z"
    }
   },
   "outputs": [
    {
     "name": "stdout",
     "output_type": "stream",
     "text": [
      "Quotes: 'cat', Without Quotes: cat\n",
      "repr: REPR, str: STR\n"
     ]
    }
   ],
   "source": [
    "# Example 12: __str()__ and __repr()__ shorthand !r and !s using format()\n",
    "\n",
    "# __str__() and __repr__() shorthand !r and !s\n",
    "print(\"Quotes: {0!r}, Without Quotes: {0!s}\".format(\"cat\"))\n",
    "\n",
    "# __str__() and __repr__() implementation for class\n",
    "class Person:\n",
    "    def __str__(self):\n",
    "        return \"STR\"\n",
    "    def __repr__(self):\n",
    "        return \"REPR\"\n",
    "\n",
    "print(\"repr: {p!r}, str: {p!s}\".format(p=Person()))"
   ]
  },
  {
   "cell_type": "code",
   "execution_count": null,
   "metadata": {},
   "outputs": [],
   "source": []
  }
 ],
 "metadata": {
  "hide_input": false,
  "kernelspec": {
   "display_name": "Python 3",
   "language": "python",
   "name": "python3"
  },
  "language_info": {
   "codemirror_mode": {
    "name": "ipython",
    "version": 3
   },
   "file_extension": ".py",
   "mimetype": "text/x-python",
   "name": "python",
   "nbconvert_exporter": "python",
   "pygments_lexer": "ipython3",
   "version": "3.8.8"
  },
  "toc": {
   "base_numbering": 1,
   "nav_menu": {},
   "number_sections": true,
   "sideBar": true,
   "skip_h1_title": false,
   "title_cell": "Table of Contents",
   "title_sidebar": "Contents",
   "toc_cell": false,
   "toc_position": {},
   "toc_section_display": true,
   "toc_window_display": false
  },
  "varInspector": {
   "cols": {
    "lenName": 16,
    "lenType": 16,
    "lenVar": 40
   },
   "kernels_config": {
    "python": {
     "delete_cmd_postfix": "",
     "delete_cmd_prefix": "del ",
     "library": "var_list.py",
     "varRefreshCmd": "print(var_dic_list())"
    },
    "r": {
     "delete_cmd_postfix": ") ",
     "delete_cmd_prefix": "rm(",
     "library": "var_list.r",
     "varRefreshCmd": "cat(var_dic_list()) "
    }
   },
   "types_to_exclude": [
    "module",
    "function",
    "builtin_function_or_method",
    "instance",
    "_Feature"
   ],
   "window_display": false
  }
 },
 "nbformat": 4,
 "nbformat_minor": 2
}
